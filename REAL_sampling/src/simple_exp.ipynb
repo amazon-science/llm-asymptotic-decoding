{
 "cells": [
  {
   "cell_type": "code",
   "execution_count": 1,
   "id": "95aae402",
   "metadata": {},
   "outputs": [],
   "source": [
    "from mosestokenizer import *\n",
    "detokenizer = MosesDetokenizer('en')\n",
    "\n"
   ]
  },
  {
   "cell_type": "code",
   "execution_count": 2,
   "id": "fe042317",
   "metadata": {},
   "outputs": [],
   "source": [
    "text = \"christopher atkinson ( c . 1738 \\u2013 23 april 1819 ) , known as christopher atkinson savile or saville from about 1798 , was an english merchant and politician . born in yorkshire , he moved to ===dorset=== and married the niece of a wealthy merchant , entering that business himself . he was elected at the 1780 general election as one of the two members of parliament ( mps ) for dorset west . however he was expelled from the house of commons on the second sitting , after being convicted of receiving a bribe , and sentenced to detention in the pillory . he was granted a royal warrant in 1791 , and returned to parliament for the area in 1796 , retaining the seat until he stood down at the 1802 general election . he had changed his name to atkinson atkinson some time after 1793 . he then purchased extensive estates in westerleigh , in hampshire , which gave him control of both one of okehampton ' s two parliamentary seats . he returned himself as an okehampton mp at the 1818 general election , and held the seat until his death in 1819 unmarried , aged over 72 .\""
   ]
  },
  {
   "cell_type": "code",
   "execution_count": 3,
   "id": "5ca41243",
   "metadata": {},
   "outputs": [
    {
     "name": "stdout",
     "output_type": "stream",
     "text": [
      "christopher atkinson (c. 1738 – 23 april 1819), known as christopher atkinson savile or saville from about 1798, was an english merchant and politician. born in yorkshire, he moved to ===dorset=== and married the niece of a wealthy merchant, entering that business himself. he was elected at the 1780 general election as one of the two members of parliament (mps) for dorset west. however he was expelled from the house of commons on the second sitting, after being convicted of receiving a bribe, and sentenced to detention in the pillory. he was granted a royal warrant in 1791, and returned to parliament for the area in 1796, retaining the seat until he stood down at the 1802 general election. he had changed his name to atkinson atkinson some time after 1793. he then purchased extensive estates in westerleigh, in hampshire, which gave him control of both one of okehampton 's two parliamentary seats. he returned himself as an okehampton mp at the 1818 general election, and held the seat until his death in 1819 unmarried, aged over 72.\n"
     ]
    }
   ],
   "source": [
    "print(detokenizer(text.split()))\n"
   ]
  },
  {
   "cell_type": "code",
   "execution_count": 1,
   "id": "d71ff0fb",
   "metadata": {},
   "outputs": [
    {
     "name": "stdout",
     "output_type": "stream",
     "text": [
      "['my', 'Ġson', 'Ġis', 'Ġje', 'rem', 'y']\n"
     ]
    }
   ],
   "source": [
    "from transformers import AutoTokenizer\n",
    "small_model_name = 'EleutherAI/pythia-70m-deduped'\n",
    "tokenizer = AutoTokenizer.from_pretrained(small_model_name)\n",
    "print(tokenizer.tokenize(\"my son is jeremy\"))\n"
   ]
  },
  {
   "cell_type": "code",
   "execution_count": 3,
   "id": "53ef61f6",
   "metadata": {},
   "outputs": [
    {
     "name": "stdout",
     "output_type": "stream",
     "text": [
      "[619, 3347, 310, 5139, 2013, 90]\n"
     ]
    }
   ],
   "source": [
    "print(tokenizer.encode(\" my son is jeremy\"))"
   ]
  },
  {
   "cell_type": "code",
   "execution_count": null,
   "id": "d557aa3c",
   "metadata": {},
   "outputs": [],
   "source": []
  }
 ],
 "metadata": {
  "kernelspec": {
   "display_name": "Python 3 (ipykernel)",
   "language": "python",
   "name": "python3"
  },
  "language_info": {
   "codemirror_mode": {
    "name": "ipython",
    "version": 3
   },
   "file_extension": ".py",
   "mimetype": "text/x-python",
   "name": "python",
   "nbconvert_exporter": "python",
   "pygments_lexer": "ipython3",
   "version": "3.7.3"
  }
 },
 "nbformat": 4,
 "nbformat_minor": 5
}
